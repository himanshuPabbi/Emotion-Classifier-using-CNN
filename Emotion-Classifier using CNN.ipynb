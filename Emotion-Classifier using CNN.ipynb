{
 "cells": [
  {
   "cell_type": "code",
   "execution_count": 1,
   "id": "877b1cff",
   "metadata": {},
   "outputs": [],
   "source": [
    "import pandas as pd\n",
    "import numpy as np\n",
    "import matplotlib.pyplot as plt\n",
    "import seaborn as sns\n",
    "from sklearn.metrics import classification_report, confusion_matrix\n",
    "from tensorflow.keras.preprocessing.text import Tokenizer\n",
    "from tensorflow.keras.optimizers import Adamax\n",
    "from tensorflow.keras.metrics import Precision, Recall\n",
    "from tensorflow.keras.layers import Dense, ReLU\n",
    "from tensorflow.keras.layers import Embedding, BatchNormalization, Concatenate\n",
    "from tensorflow.keras.layers import Conv1D, GlobalMaxPooling1D, Dropout\n",
    "from tensorflow.keras.models import Sequential, Model\n",
    "from sklearn.preprocessing import LabelEncoder\n",
    "from tensorflow.keras.preprocessing.sequence import pad_sequences\n",
    "from keras.utils import to_categorical"
   ]
  },
  {
   "cell_type": "code",
   "execution_count": 2,
   "id": "e6bdbb84",
   "metadata": {},
   "outputs": [],
   "source": [
    "df = pd.read_csv(\"train.txt\",\n",
    "                 delimiter=';', header=None, names=['sentence','label'])\n",
    "\n",
    "val_df = pd.read_csv(\"val.txt\",\n",
    "                 delimiter=';', header=None, names=['sentence','label'])\n",
    "\n",
    "ts_df = pd.read_csv(\"test.txt\",\n",
    "                 delimiter=';', header=None, names=['sentence','label'])"
   ]
  },
  {
   "cell_type": "code",
   "execution_count": 3,
   "id": "54ad5329",
   "metadata": {},
   "outputs": [
    {
     "data": {
      "text/html": [
       "<div>\n",
       "<style scoped>\n",
       "    .dataframe tbody tr th:only-of-type {\n",
       "        vertical-align: middle;\n",
       "    }\n",
       "\n",
       "    .dataframe tbody tr th {\n",
       "        vertical-align: top;\n",
       "    }\n",
       "\n",
       "    .dataframe thead th {\n",
       "        text-align: right;\n",
       "    }\n",
       "</style>\n",
       "<table border=\"1\" class=\"dataframe\">\n",
       "  <thead>\n",
       "    <tr style=\"text-align: right;\">\n",
       "      <th></th>\n",
       "      <th>sentence</th>\n",
       "      <th>label</th>\n",
       "    </tr>\n",
       "  </thead>\n",
       "  <tbody>\n",
       "    <tr>\n",
       "      <th>0</th>\n",
       "      <td>i didnt feel humiliated</td>\n",
       "      <td>sadness</td>\n",
       "    </tr>\n",
       "    <tr>\n",
       "      <th>1</th>\n",
       "      <td>i can go from feeling so hopeless to so damned...</td>\n",
       "      <td>sadness</td>\n",
       "    </tr>\n",
       "    <tr>\n",
       "      <th>2</th>\n",
       "      <td>im grabbing a minute to post i feel greedy wrong</td>\n",
       "      <td>anger</td>\n",
       "    </tr>\n",
       "    <tr>\n",
       "      <th>3</th>\n",
       "      <td>i am ever feeling nostalgic about the fireplac...</td>\n",
       "      <td>love</td>\n",
       "    </tr>\n",
       "    <tr>\n",
       "      <th>4</th>\n",
       "      <td>i am feeling grouchy</td>\n",
       "      <td>anger</td>\n",
       "    </tr>\n",
       "    <tr>\n",
       "      <th>...</th>\n",
       "      <td>...</td>\n",
       "      <td>...</td>\n",
       "    </tr>\n",
       "    <tr>\n",
       "      <th>15995</th>\n",
       "      <td>i just had a very brief time in the beanbag an...</td>\n",
       "      <td>sadness</td>\n",
       "    </tr>\n",
       "    <tr>\n",
       "      <th>15996</th>\n",
       "      <td>i am now turning and i feel pathetic that i am...</td>\n",
       "      <td>sadness</td>\n",
       "    </tr>\n",
       "    <tr>\n",
       "      <th>15997</th>\n",
       "      <td>i feel strong and good overall</td>\n",
       "      <td>joy</td>\n",
       "    </tr>\n",
       "    <tr>\n",
       "      <th>15998</th>\n",
       "      <td>i feel like this was such a rude comment and i...</td>\n",
       "      <td>anger</td>\n",
       "    </tr>\n",
       "    <tr>\n",
       "      <th>15999</th>\n",
       "      <td>i know a lot but i feel so stupid because i ca...</td>\n",
       "      <td>sadness</td>\n",
       "    </tr>\n",
       "  </tbody>\n",
       "</table>\n",
       "<p>16000 rows × 2 columns</p>\n",
       "</div>"
      ],
      "text/plain": [
       "                                                sentence    label\n",
       "0                                i didnt feel humiliated  sadness\n",
       "1      i can go from feeling so hopeless to so damned...  sadness\n",
       "2       im grabbing a minute to post i feel greedy wrong    anger\n",
       "3      i am ever feeling nostalgic about the fireplac...     love\n",
       "4                                   i am feeling grouchy    anger\n",
       "...                                                  ...      ...\n",
       "15995  i just had a very brief time in the beanbag an...  sadness\n",
       "15996  i am now turning and i feel pathetic that i am...  sadness\n",
       "15997                     i feel strong and good overall      joy\n",
       "15998  i feel like this was such a rude comment and i...    anger\n",
       "15999  i know a lot but i feel so stupid because i ca...  sadness\n",
       "\n",
       "[16000 rows x 2 columns]"
      ]
     },
     "execution_count": 3,
     "metadata": {},
     "output_type": "execute_result"
    }
   ],
   "source": [
    "df"
   ]
  },
  {
   "cell_type": "code",
   "execution_count": 4,
   "id": "5e5be51f",
   "metadata": {},
   "outputs": [
    {
     "data": {
      "text/html": [
       "<div>\n",
       "<style scoped>\n",
       "    .dataframe tbody tr th:only-of-type {\n",
       "        vertical-align: middle;\n",
       "    }\n",
       "\n",
       "    .dataframe tbody tr th {\n",
       "        vertical-align: top;\n",
       "    }\n",
       "\n",
       "    .dataframe thead th {\n",
       "        text-align: right;\n",
       "    }\n",
       "</style>\n",
       "<table border=\"1\" class=\"dataframe\">\n",
       "  <thead>\n",
       "    <tr style=\"text-align: right;\">\n",
       "      <th></th>\n",
       "      <th>sentence</th>\n",
       "      <th>label</th>\n",
       "    </tr>\n",
       "  </thead>\n",
       "  <tbody>\n",
       "    <tr>\n",
       "      <th>0</th>\n",
       "      <td>im feeling quite sad and sorry for myself but ...</td>\n",
       "      <td>sadness</td>\n",
       "    </tr>\n",
       "    <tr>\n",
       "      <th>1</th>\n",
       "      <td>i feel like i am still looking at a blank canv...</td>\n",
       "      <td>sadness</td>\n",
       "    </tr>\n",
       "    <tr>\n",
       "      <th>2</th>\n",
       "      <td>i feel like a faithful servant</td>\n",
       "      <td>love</td>\n",
       "    </tr>\n",
       "    <tr>\n",
       "      <th>3</th>\n",
       "      <td>i am just feeling cranky and blue</td>\n",
       "      <td>anger</td>\n",
       "    </tr>\n",
       "    <tr>\n",
       "      <th>4</th>\n",
       "      <td>i can have for a treat or if i am feeling festive</td>\n",
       "      <td>joy</td>\n",
       "    </tr>\n",
       "    <tr>\n",
       "      <th>...</th>\n",
       "      <td>...</td>\n",
       "      <td>...</td>\n",
       "    </tr>\n",
       "    <tr>\n",
       "      <th>1995</th>\n",
       "      <td>im having ssa examination tomorrow in the morn...</td>\n",
       "      <td>sadness</td>\n",
       "    </tr>\n",
       "    <tr>\n",
       "      <th>1996</th>\n",
       "      <td>i constantly worry about their fight against n...</td>\n",
       "      <td>joy</td>\n",
       "    </tr>\n",
       "    <tr>\n",
       "      <th>1997</th>\n",
       "      <td>i feel its important to share this info for th...</td>\n",
       "      <td>joy</td>\n",
       "    </tr>\n",
       "    <tr>\n",
       "      <th>1998</th>\n",
       "      <td>i truly feel that if you are passionate enough...</td>\n",
       "      <td>joy</td>\n",
       "    </tr>\n",
       "    <tr>\n",
       "      <th>1999</th>\n",
       "      <td>i feel like i just wanna buy any cute make up ...</td>\n",
       "      <td>joy</td>\n",
       "    </tr>\n",
       "  </tbody>\n",
       "</table>\n",
       "<p>2000 rows × 2 columns</p>\n",
       "</div>"
      ],
      "text/plain": [
       "                                               sentence    label\n",
       "0     im feeling quite sad and sorry for myself but ...  sadness\n",
       "1     i feel like i am still looking at a blank canv...  sadness\n",
       "2                        i feel like a faithful servant     love\n",
       "3                     i am just feeling cranky and blue    anger\n",
       "4     i can have for a treat or if i am feeling festive      joy\n",
       "...                                                 ...      ...\n",
       "1995  im having ssa examination tomorrow in the morn...  sadness\n",
       "1996  i constantly worry about their fight against n...      joy\n",
       "1997  i feel its important to share this info for th...      joy\n",
       "1998  i truly feel that if you are passionate enough...      joy\n",
       "1999  i feel like i just wanna buy any cute make up ...      joy\n",
       "\n",
       "[2000 rows x 2 columns]"
      ]
     },
     "execution_count": 4,
     "metadata": {},
     "output_type": "execute_result"
    }
   ],
   "source": [
    "val_df"
   ]
  },
  {
   "cell_type": "code",
   "execution_count": 5,
   "id": "a03b52d7",
   "metadata": {},
   "outputs": [
    {
     "data": {
      "text/html": [
       "<div>\n",
       "<style scoped>\n",
       "    .dataframe tbody tr th:only-of-type {\n",
       "        vertical-align: middle;\n",
       "    }\n",
       "\n",
       "    .dataframe tbody tr th {\n",
       "        vertical-align: top;\n",
       "    }\n",
       "\n",
       "    .dataframe thead th {\n",
       "        text-align: right;\n",
       "    }\n",
       "</style>\n",
       "<table border=\"1\" class=\"dataframe\">\n",
       "  <thead>\n",
       "    <tr style=\"text-align: right;\">\n",
       "      <th></th>\n",
       "      <th>sentence</th>\n",
       "      <th>label</th>\n",
       "    </tr>\n",
       "  </thead>\n",
       "  <tbody>\n",
       "    <tr>\n",
       "      <th>0</th>\n",
       "      <td>im feeling rather rotten so im not very ambiti...</td>\n",
       "      <td>sadness</td>\n",
       "    </tr>\n",
       "    <tr>\n",
       "      <th>1</th>\n",
       "      <td>im updating my blog because i feel shitty</td>\n",
       "      <td>sadness</td>\n",
       "    </tr>\n",
       "    <tr>\n",
       "      <th>2</th>\n",
       "      <td>i never make her separate from me because i do...</td>\n",
       "      <td>sadness</td>\n",
       "    </tr>\n",
       "    <tr>\n",
       "      <th>3</th>\n",
       "      <td>i left with my bouquet of red and yellow tulip...</td>\n",
       "      <td>joy</td>\n",
       "    </tr>\n",
       "    <tr>\n",
       "      <th>4</th>\n",
       "      <td>i was feeling a little vain when i did this one</td>\n",
       "      <td>sadness</td>\n",
       "    </tr>\n",
       "    <tr>\n",
       "      <th>...</th>\n",
       "      <td>...</td>\n",
       "      <td>...</td>\n",
       "    </tr>\n",
       "    <tr>\n",
       "      <th>1995</th>\n",
       "      <td>i just keep feeling like someone is being unki...</td>\n",
       "      <td>anger</td>\n",
       "    </tr>\n",
       "    <tr>\n",
       "      <th>1996</th>\n",
       "      <td>im feeling a little cranky negative after this...</td>\n",
       "      <td>anger</td>\n",
       "    </tr>\n",
       "    <tr>\n",
       "      <th>1997</th>\n",
       "      <td>i feel that i am useful to my people and that ...</td>\n",
       "      <td>joy</td>\n",
       "    </tr>\n",
       "    <tr>\n",
       "      <th>1998</th>\n",
       "      <td>im feeling more comfortable with derby i feel ...</td>\n",
       "      <td>joy</td>\n",
       "    </tr>\n",
       "    <tr>\n",
       "      <th>1999</th>\n",
       "      <td>i feel all weird when i have to meet w people ...</td>\n",
       "      <td>fear</td>\n",
       "    </tr>\n",
       "  </tbody>\n",
       "</table>\n",
       "<p>2000 rows × 2 columns</p>\n",
       "</div>"
      ],
      "text/plain": [
       "                                               sentence    label\n",
       "0     im feeling rather rotten so im not very ambiti...  sadness\n",
       "1             im updating my blog because i feel shitty  sadness\n",
       "2     i never make her separate from me because i do...  sadness\n",
       "3     i left with my bouquet of red and yellow tulip...      joy\n",
       "4       i was feeling a little vain when i did this one  sadness\n",
       "...                                                 ...      ...\n",
       "1995  i just keep feeling like someone is being unki...    anger\n",
       "1996  im feeling a little cranky negative after this...    anger\n",
       "1997  i feel that i am useful to my people and that ...      joy\n",
       "1998  im feeling more comfortable with derby i feel ...      joy\n",
       "1999  i feel all weird when i have to meet w people ...     fear\n",
       "\n",
       "[2000 rows x 2 columns]"
      ]
     },
     "execution_count": 5,
     "metadata": {},
     "output_type": "execute_result"
    }
   ],
   "source": [
    "ts_df"
   ]
  },
  {
   "cell_type": "code",
   "execution_count": 6,
   "id": "72533311",
   "metadata": {},
   "outputs": [
    {
     "data": {
      "text/plain": [
       "array(['sadness', 'anger', 'love', 'surprise', 'fear', 'joy'],\n",
       "      dtype=object)"
      ]
     },
     "execution_count": 6,
     "metadata": {},
     "output_type": "execute_result"
    }
   ],
   "source": [
    "df['label'].unique()\n"
   ]
  },
  {
   "cell_type": "code",
   "execution_count": 7,
   "id": "455bb933",
   "metadata": {},
   "outputs": [
    {
     "data": {
      "text/plain": [
       "joy         5362\n",
       "sadness     4666\n",
       "anger       2159\n",
       "fear        1937\n",
       "love        1304\n",
       "surprise     572\n",
       "Name: label, dtype: int64"
      ]
     },
     "execution_count": 7,
     "metadata": {},
     "output_type": "execute_result"
    }
   ],
   "source": [
    "df.label.value_counts()\n"
   ]
  },
  {
   "cell_type": "code",
   "execution_count": 8,
   "id": "e1f974c6",
   "metadata": {},
   "outputs": [],
   "source": [
    "tr_text = df['sentence']\n",
    "tr_label = df['label']\n",
    "\n",
    "val_text = val_df['sentence']\n",
    "val_label = val_df['label']\n",
    "\n",
    "ts_text = ts_df['sentence']\n",
    "ts_label = ts_df['label']"
   ]
  },
  {
   "cell_type": "code",
   "execution_count": 9,
   "id": "1f89bd64",
   "metadata": {},
   "outputs": [],
   "source": [
    "encoder = LabelEncoder()\n",
    "tr_label = encoder.fit_transform(tr_label)\n",
    "val_label = encoder.transform(val_label)\n",
    "ts_label = encoder.transform(ts_label)"
   ]
  },
  {
   "cell_type": "code",
   "execution_count": 10,
   "id": "f4dd2dc2",
   "metadata": {},
   "outputs": [],
   "source": [
    "tokenizer = Tokenizer(num_words=10000)\n",
    "tokenizer.fit_on_texts(tr_text) \n",
    "                            \n",
    "sequences = tokenizer.texts_to_sequences(tr_text)\n",
    "\n",
    "tr_x = pad_sequences(sequences, maxlen=50) \n",
    "tr_y = to_categorical(tr_label)\n",
    "\n",
    "sequences = tokenizer.texts_to_sequences(val_text)\n",
    "val_x = pad_sequences(sequences, maxlen=50)\n",
    "val_y = to_categorical(val_label)\n",
    "\n",
    "sequences = tokenizer.texts_to_sequences(ts_text)\n",
    "ts_x = pad_sequences(sequences, maxlen=50)\n",
    "ts_y = to_categorical(ts_label)"
   ]
  },
  {
   "cell_type": "code",
   "execution_count": 11,
   "id": "1f1c96e1",
   "metadata": {},
   "outputs": [],
   "source": [
    "max_words = 10000\n",
    "max_len = 50\n",
    "embedding_dim = 64"
   ]
  },
  {
   "cell_type": "code",
   "execution_count": 12,
   "id": "451d541d",
   "metadata": {},
   "outputs": [],
   "source": [
    "# Branch 1\n",
    "branch1 = Sequential()\n",
    "branch1.add(Embedding(max_words, embedding_dim, input_length=max_len))\n",
    "branch1.add(Conv1D(64, 3, padding='same', activation='relu'))\n",
    "branch1.add(BatchNormalization())\n",
    "branch1.add(ReLU())\n",
    "branch1.add(Dropout(0.5))\n",
    "branch1.add(GlobalMaxPooling1D())\n",
    "\n",
    "# Branch 2\n",
    "branch2 = Sequential()\n",
    "branch2.add(Embedding(max_words, embedding_dim, input_length=max_len))\n",
    "branch2.add(Conv1D(64, 3, padding='same', activation='relu'))\n",
    "branch2.add(BatchNormalization())\n",
    "branch2.add(ReLU())\n",
    "branch2.add(Dropout(0.5))\n",
    "branch2.add(GlobalMaxPooling1D())\n",
    "\n",
    "concatenated = Concatenate()([branch1.output, branch2.output])\n",
    "\n",
    "hid_layer = Dense(128, activation='relu')(concatenated)\n",
    "dropout = Dropout(0.5)(hid_layer)\n",
    "output_layer = Dense(6, activation='softmax')(dropout)\n",
    "\n",
    "model = Model(inputs=[branch1.input, branch2.input], outputs=output_layer)\n"
   ]
  },
  {
   "cell_type": "code",
   "execution_count": 13,
   "id": "5e203606",
   "metadata": {},
   "outputs": [
    {
     "name": "stdout",
     "output_type": "stream",
     "text": [
      "Model: \"model\"\n",
      "__________________________________________________________________________________________________\n",
      " Layer (type)                   Output Shape         Param #     Connected to                     \n",
      "==================================================================================================\n",
      " embedding_input (InputLayer)   [(None, 50)]         0           []                               \n",
      "                                                                                                  \n",
      " embedding_1_input (InputLayer)  [(None, 50)]        0           []                               \n",
      "                                                                                                  \n",
      " embedding (Embedding)          (None, 50, 64)       640000      ['embedding_input[0][0]']        \n",
      "                                                                                                  \n",
      " embedding_1 (Embedding)        (None, 50, 64)       640000      ['embedding_1_input[0][0]']      \n",
      "                                                                                                  \n",
      " conv1d (Conv1D)                (None, 50, 64)       12352       ['embedding[0][0]']              \n",
      "                                                                                                  \n",
      " conv1d_1 (Conv1D)              (None, 50, 64)       12352       ['embedding_1[0][0]']            \n",
      "                                                                                                  \n",
      " batch_normalization (BatchNorm  (None, 50, 64)      256         ['conv1d[0][0]']                 \n",
      " alization)                                                                                       \n",
      "                                                                                                  \n",
      " batch_normalization_1 (BatchNo  (None, 50, 64)      256         ['conv1d_1[0][0]']               \n",
      " rmalization)                                                                                     \n",
      "                                                                                                  \n",
      " re_lu (ReLU)                   (None, 50, 64)       0           ['batch_normalization[0][0]']    \n",
      "                                                                                                  \n",
      " re_lu_1 (ReLU)                 (None, 50, 64)       0           ['batch_normalization_1[0][0]']  \n",
      "                                                                                                  \n",
      " dropout (Dropout)              (None, 50, 64)       0           ['re_lu[0][0]']                  \n",
      "                                                                                                  \n",
      " dropout_1 (Dropout)            (None, 50, 64)       0           ['re_lu_1[0][0]']                \n",
      "                                                                                                  \n",
      " global_max_pooling1d (GlobalMa  (None, 64)          0           ['dropout[0][0]']                \n",
      " xPooling1D)                                                                                      \n",
      "                                                                                                  \n",
      " global_max_pooling1d_1 (Global  (None, 64)          0           ['dropout_1[0][0]']              \n",
      " MaxPooling1D)                                                                                    \n",
      "                                                                                                  \n",
      " concatenate (Concatenate)      (None, 128)          0           ['global_max_pooling1d[0][0]',   \n",
      "                                                                  'global_max_pooling1d_1[0][0]'] \n",
      "                                                                                                  \n",
      " dense (Dense)                  (None, 128)          16512       ['concatenate[0][0]']            \n",
      "                                                                                                  \n",
      " dropout_2 (Dropout)            (None, 128)          0           ['dense[0][0]']                  \n",
      "                                                                                                  \n",
      " dense_1 (Dense)                (None, 6)            774         ['dropout_2[0][0]']              \n",
      "                                                                                                  \n",
      "==================================================================================================\n",
      "Total params: 1,322,502\n",
      "Trainable params: 1,322,246\n",
      "Non-trainable params: 256\n",
      "__________________________________________________________________________________________________\n"
     ]
    }
   ],
   "source": [
    "model.compile(optimizer='adamax',\n",
    "              loss='categorical_crossentropy',\n",
    "              metrics=['accuracy', Precision(), Recall()])\n",
    "\n",
    "model.summary()"
   ]
  },
  {
   "cell_type": "code",
   "execution_count": 14,
   "id": "949f1bb0",
   "metadata": {},
   "outputs": [],
   "source": [
    "GlobalMaxPooling1D??\n"
   ]
  },
  {
   "cell_type": "code",
   "execution_count": 15,
   "id": "e1c3ad3c",
   "metadata": {},
   "outputs": [
    {
     "name": "stdout",
     "output_type": "stream",
     "text": [
      "Epoch 1/25\n",
      "125/125 [==============================] - 4s 28ms/step - loss: 1.7782 - accuracy: 0.3028 - precision: 0.3044 - recall: 0.0511 - val_loss: 1.7614 - val_accuracy: 0.3645 - val_precision: 0.0000e+00 - val_recall: 0.0000e+00\n",
      "Epoch 2/25\n",
      "125/125 [==============================] - 3s 28ms/step - loss: 1.5952 - accuracy: 0.3419 - precision: 0.4631 - recall: 0.0318 - val_loss: 1.7367 - val_accuracy: 0.3680 - val_precision: 0.0000e+00 - val_recall: 0.0000e+00\n",
      "Epoch 3/25\n",
      "125/125 [==============================] - 4s 29ms/step - loss: 1.5473 - accuracy: 0.3722 - precision: 0.5387 - recall: 0.0569 - val_loss: 1.7050 - val_accuracy: 0.4305 - val_precision: 0.0000e+00 - val_recall: 0.0000e+00\n",
      "Epoch 4/25\n",
      "125/125 [==============================] - 4s 28ms/step - loss: 1.4677 - accuracy: 0.4177 - precision: 0.6329 - recall: 0.1209 - val_loss: 1.6121 - val_accuracy: 0.4890 - val_precision: 0.0000e+00 - val_recall: 0.0000e+00\n",
      "Epoch 5/25\n",
      "125/125 [==============================] - 4s 29ms/step - loss: 1.3197 - accuracy: 0.4951 - precision: 0.7157 - recall: 0.2508 - val_loss: 1.3851 - val_accuracy: 0.5890 - val_precision: 0.9878 - val_recall: 0.0405\n",
      "Epoch 6/25\n",
      "125/125 [==============================] - 4s 28ms/step - loss: 1.0677 - accuracy: 0.6040 - precision: 0.8058 - recall: 0.4179 - val_loss: 1.0325 - val_accuracy: 0.7330 - val_precision: 0.9734 - val_recall: 0.3470\n",
      "Epoch 7/25\n",
      "125/125 [==============================] - 4s 28ms/step - loss: 0.8144 - accuracy: 0.7109 - precision: 0.8482 - recall: 0.5754 - val_loss: 0.7141 - val_accuracy: 0.8215 - val_precision: 0.9522 - val_recall: 0.5480\n",
      "Epoch 8/25\n",
      "125/125 [==============================] - 4s 29ms/step - loss: 0.5824 - accuracy: 0.7977 - precision: 0.8817 - recall: 0.7160 - val_loss: 0.4805 - val_accuracy: 0.8665 - val_precision: 0.9402 - val_recall: 0.7315\n",
      "Epoch 9/25\n",
      "125/125 [==============================] - 4s 28ms/step - loss: 0.4499 - accuracy: 0.8496 - precision: 0.9010 - recall: 0.7940 - val_loss: 0.3781 - val_accuracy: 0.8970 - val_precision: 0.9375 - val_recall: 0.8030\n",
      "Epoch 10/25\n",
      "125/125 [==============================] - 4s 28ms/step - loss: 0.3541 - accuracy: 0.8834 - precision: 0.9172 - recall: 0.8452 - val_loss: 0.3132 - val_accuracy: 0.9020 - val_precision: 0.9371 - val_recall: 0.8495\n",
      "Epoch 11/25\n",
      "125/125 [==============================] - 4s 30ms/step - loss: 0.2989 - accuracy: 0.9007 - precision: 0.9253 - recall: 0.8740 - val_loss: 0.2767 - val_accuracy: 0.9075 - val_precision: 0.9387 - val_recall: 0.8730\n",
      "Epoch 12/25\n",
      "125/125 [==============================] - 4s 29ms/step - loss: 0.2558 - accuracy: 0.9161 - precision: 0.9340 - recall: 0.8954 - val_loss: 0.2620 - val_accuracy: 0.9110 - val_precision: 0.9347 - val_recall: 0.8800\n",
      "Epoch 13/25\n",
      "125/125 [==============================] - 4s 28ms/step - loss: 0.2266 - accuracy: 0.9226 - precision: 0.9379 - recall: 0.9063 - val_loss: 0.2455 - val_accuracy: 0.9140 - val_precision: 0.9386 - val_recall: 0.8860\n",
      "Epoch 14/25\n",
      "125/125 [==============================] - 3s 27ms/step - loss: 0.1973 - accuracy: 0.9340 - precision: 0.9466 - recall: 0.9194 - val_loss: 0.2356 - val_accuracy: 0.9140 - val_precision: 0.9345 - val_recall: 0.8910\n",
      "Epoch 15/25\n",
      "125/125 [==============================] - 4s 29ms/step - loss: 0.1790 - accuracy: 0.9393 - precision: 0.9492 - recall: 0.9276 - val_loss: 0.2258 - val_accuracy: 0.9165 - val_precision: 0.9341 - val_recall: 0.8935\n",
      "Epoch 16/25\n",
      "125/125 [==============================] - 4s 29ms/step - loss: 0.1676 - accuracy: 0.9412 - precision: 0.9500 - recall: 0.9312 - val_loss: 0.2267 - val_accuracy: 0.9170 - val_precision: 0.9323 - val_recall: 0.8955\n",
      "Epoch 17/25\n",
      "125/125 [==============================] - 4s 29ms/step - loss: 0.1546 - accuracy: 0.9459 - precision: 0.9534 - recall: 0.9369 - val_loss: 0.2172 - val_accuracy: 0.9150 - val_precision: 0.9312 - val_recall: 0.9005\n",
      "Epoch 18/25\n",
      "125/125 [==============================] - 4s 28ms/step - loss: 0.1431 - accuracy: 0.9514 - precision: 0.9590 - recall: 0.9452 - val_loss: 0.2134 - val_accuracy: 0.9150 - val_precision: 0.9289 - val_recall: 0.9015\n",
      "Epoch 19/25\n",
      "125/125 [==============================] - 4s 29ms/step - loss: 0.1333 - accuracy: 0.9538 - precision: 0.9604 - recall: 0.9469 - val_loss: 0.2156 - val_accuracy: 0.9120 - val_precision: 0.9284 - val_recall: 0.9010\n",
      "Epoch 20/25\n",
      "125/125 [==============================] - 4s 28ms/step - loss: 0.1203 - accuracy: 0.9591 - precision: 0.9636 - recall: 0.9531 - val_loss: 0.2160 - val_accuracy: 0.9135 - val_precision: 0.9293 - val_recall: 0.9000\n",
      "Epoch 21/25\n",
      "125/125 [==============================] - 4s 29ms/step - loss: 0.1119 - accuracy: 0.9613 - precision: 0.9663 - recall: 0.9553 - val_loss: 0.2152 - val_accuracy: 0.9175 - val_precision: 0.9278 - val_recall: 0.9060\n",
      "Epoch 22/25\n",
      "125/125 [==============================] - 4s 29ms/step - loss: 0.1061 - accuracy: 0.9645 - precision: 0.9684 - recall: 0.9606 - val_loss: 0.2103 - val_accuracy: 0.9170 - val_precision: 0.9283 - val_recall: 0.9060\n",
      "Epoch 23/25\n",
      "125/125 [==============================] - 4s 29ms/step - loss: 0.0962 - accuracy: 0.9652 - precision: 0.9687 - recall: 0.9609 - val_loss: 0.2155 - val_accuracy: 0.9175 - val_precision: 0.9292 - val_recall: 0.9050\n",
      "Epoch 24/25\n",
      "125/125 [==============================] - 4s 28ms/step - loss: 0.0914 - accuracy: 0.9679 - precision: 0.9712 - recall: 0.9639 - val_loss: 0.2110 - val_accuracy: 0.9180 - val_precision: 0.9277 - val_recall: 0.9115\n",
      "Epoch 25/25\n",
      "125/125 [==============================] - 4s 29ms/step - loss: 0.0899 - accuracy: 0.9693 - precision: 0.9721 - recall: 0.9663 - val_loss: 0.2123 - val_accuracy: 0.9170 - val_precision: 0.9278 - val_recall: 0.9055\n"
     ]
    }
   ],
   "source": [
    "batch_size = 128\n",
    "epochs = 25\n",
    "history = model.fit([tr_x, tr_x], tr_y, epochs=epochs, batch_size=batch_size,\n",
    "                    validation_data=([val_x, val_x], val_y))"
   ]
  },
  {
   "cell_type": "code",
   "execution_count": 16,
   "id": "16f10c46",
   "metadata": {},
   "outputs": [
    {
     "name": "stdout",
     "output_type": "stream",
     "text": [
      "63/63 [==============================] - 0s 3ms/step - loss: 0.2126 - accuracy: 0.9085 - precision: 0.9184 - recall: 0.9005\n",
      "Loss: 0.21, Accuracy: 0.91, Precision: 0.92, Recall: 0.9\n"
     ]
    }
   ],
   "source": [
    "(loss, accuracy, percision, recall) = model.evaluate([ts_x, ts_x], ts_y)\n",
    "print(f'Loss: {round(loss, 2)}, Accuracy: {round(accuracy, 2)}, Precision: {round(percision, 2)}, Recall: {round(recall, 2)}')"
   ]
  },
  {
   "cell_type": "code",
   "execution_count": 17,
   "id": "d02aea06",
   "metadata": {},
   "outputs": [
    {
     "data": {
      "text/plain": [
       "dict_keys(['loss', 'accuracy', 'precision', 'recall', 'val_loss', 'val_accuracy', 'val_precision', 'val_recall'])"
      ]
     },
     "execution_count": 17,
     "metadata": {},
     "output_type": "execute_result"
    }
   ],
   "source": [
    "history.history.keys()\n"
   ]
  },
  {
   "cell_type": "code",
   "execution_count": 18,
   "id": "9b3db9b8",
   "metadata": {},
   "outputs": [
    {
     "data": {
      "image/png": "[encoded data removed]",
      "text/plain": [
       "<Figure size 432x288 with 1 Axes>"
      ]
     },
     "metadata": {
      "needs_background": "light"
     },
     "output_type": "display_data"
    }
   ],
   "source": [
    "loss = history.history['loss']\n",
    "val_loss = history.history['val_loss']\n",
    "\n",
    "plt.plot(loss , 'b' , label = 'train loss')\n",
    "plt.plot(val_loss , 'orange' , label = 'val loss')\n",
    "\n",
    "plt.legend()\n",
    "plt.show()\n"
   ]
  },
  {
   "cell_type": "code",
   "execution_count": 19,
   "id": "13b8472d",
   "metadata": {},
   "outputs": [
    {
     "data": {
      "image/png": "[encoded data removed]",
      "text/plain": [
       "<Figure size 432x288 with 1 Axes>"
      ]
     },
     "metadata": {
      "needs_background": "light"
     },
     "output_type": "display_data"
    }
   ],
   "source": [
    "accuracy = history.history['accuracy']\n",
    "val_accuracy = history.history['val_accuracy']\n",
    "\n",
    "plt.plot(accuracy , 'b' , label = 'train accuracy')\n",
    "plt.plot(val_accuracy , 'orange' , label = 'val accuracy')\n",
    "\n",
    "plt.legend()\n",
    "plt.show()"
   ]
  }
 ],
 "metadata": {
  "kernelspec": {
   "display_name": "Python 3 (ipykernel)",
   "language": "python",
   "name": "python3"
  },
  "language_info": {
   "codemirror_mode": {
    "name": "ipython",
    "version": 3
   },
   "file_extension": ".py",
   "mimetype": "text/x-python",
   "name": "python",
   "nbconvert_exporter": "python",
   "pygments_lexer": "ipython3",
   "version": "3.9.12"
  }
 },
 "nbformat": 4,
 "nbformat_minor": 5
}
